{
  "cells": [
    {
      "cell_type": "code",
      "metadata": {
        "jukit_cell_id": "f0GEGDeLRe"
      },
      "source": [],
      "outputs": [],
      "execution_count": null
    },
    {
      "cell_type": "markdown",
      "metadata": {
        "jukit_cell_id": "bNvqfQkX7p"
      },
      "source": [
        "# Utils\n",
        "\n",
        "Connect LLMs to tools and other sources of knowledge\n",
        "\n",
        "- Text Splitter\n",
        "- Embeddigs:\n",
        "    - Return embeddigns (list of floats)\n",
        "- Vectorstores\n",
        "    - Datastores to store embeddings of documents in vector form.\n",
        "    - Expose methods for passing in a string and retrieve similar document\n",
        "- Python Repl\n",
        "- Bash\n",
        "- Requests Wrapper (requests lib)\n",
        "- Search\n",
        "\n",
        "## Generic Utilities\n",
        "\n",
        "### Bash"
      ]
    },
    {
      "cell_type": "code",
      "metadata": {
        "jukit_cell_id": "ph5kvpzBNj"
      },
      "source": [
        "from langchain.utilities import BashProcess\n",
        "\n",
        "bash = BashProcess()\n",
        "print(bash.run(\"ls\"))"
      ],
      "outputs": [
        {
          "output_type": "stream",
          "name": "stdout",
          "text": "document-loaders.ipynb\ndocument-loaders.py\ndocuments\nllm.json\nllms.ipynb\nllms.py\npdf-loader.ipynb\npdf-loader.py\nquickstart.ipynb\nquickstart.py\ntest.ipynb\ntest.py\nutils.py\n\n"
        }
      ],
      "execution_count": 1
    },
    {
      "cell_type": "code",
      "metadata": {
        "jukit_cell_id": "4qBrDqHb3v"
      },
      "source": [],
      "outputs": [],
      "execution_count": null
    }
  ],
  "metadata": {
    "anaconda-cloud": {},
    "kernelspec": {
      "display_name": "python",
      "language": "python",
      "name": "python3"
    }
  },
  "nbformat": 4,
  "nbformat_minor": 4
}